{
 "cells": [
  {
   "cell_type": "markdown",
   "source": [
    "# Advent of Code\n",
    "## Initial setup"
   ],
   "metadata": {
    "collapsed": false
   }
  },
  {
   "cell_type": "code",
   "execution_count": null,
   "metadata": {},
   "outputs": [],
   "source": [
    "import ipytest\n",
    "import sys\n",
    "sys.path.append(\"..\")\n",
    "from ansi import *\n",
    "from comp import *\n",
    "ipytest.autoconfig()"
   ]
  },
  {
   "cell_type": "markdown",
   "source": [
    "## Helpers"
   ],
   "metadata": {
    "collapsed": false
   }
  },
  {
   "cell_type": "code",
   "execution_count": null,
   "outputs": [],
   "source": [
    "def add_numbers(x: int, y: int) -> int:\n",
    "    return x + y"
   ],
   "metadata": {
    "collapsed": false
   }
  },
  {
   "cell_type": "code",
   "execution_count": null,
   "outputs": [],
   "source": [
    "%%ipytest\n",
    "def test_add_numbers():\n",
    "    assert add_numbers(10, 11) == 211"
   ],
   "metadata": {
    "collapsed": false
   }
  },
  {
   "cell_type": "markdown",
   "source": [
    "## Main Solver"
   ],
   "metadata": {
    "collapsed": false
   }
  },
  {
   "cell_type": "code",
   "execution_count": null,
   "metadata": {},
   "outputs": [],
   "source": [
    "def solve(prob, filename):\n",
    "    lines = []\n",
    "    gen = yield_line(filename)\n",
    "\n",
    "    for line in gen:\n",
    "        lines.append(line)\n",
    "\n",
    "    print_arr(lines)\n",
    "\n",
    "    print(f\"{len(lines)} in the array\")\n",
    "\n",
    "    if prob == 1:\n",
    "        return 1\n",
    "    elif prob == 2:\n",
    "        return 2\n",
    "    else:\n",
    "        print(\"Invalid problem code\")\n",
    "        exit()"
   ]
  },
  {
   "cell_type": "code",
   "execution_count": null,
   "metadata": {},
   "outputs": [],
   "source": [
    "%%ipytest\n",
    "def test_solve():\n",
    "    assert solve(1, \"input\") == 1\n",
    "    assert solve(2, \"input\") == 2"
   ]
  }
 ],
 "metadata": {
  "kernelspec": {
   "display_name": "Python 3 (ipykernel)",
   "language": "python",
   "name": "python3"
  },
  "language_info": {
   "codemirror_mode": {
    "name": "ipython",
    "version": 3
   },
   "file_extension": ".py",
   "mimetype": "text/x-python",
   "name": "python",
   "nbconvert_exporter": "python",
   "pygments_lexer": "ipython3",
   "version": "3.10.6"
  }
 },
 "nbformat": 4,
 "nbformat_minor": 1
}
