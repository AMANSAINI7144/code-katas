{
 "cells": [
  {
   "cell_type": "markdown",
   "source": [
    "# [Advent of Code 2020 Day 9](https://adventofcode.com/2020/day/9)\n",
    "\n",
    "This looks interesting. Seems like 2SUM's cousin mixed with sliding window? Maybe rolling hash? jk"
   ],
   "metadata": {
    "collapsed": false
   },
   "outputs": []
  },
  {
   "cell_type": "markdown",
   "source": [
    "## Initial setup"
   ],
   "metadata": {
    "collapsed": false
   }
  },
  {
   "cell_type": "code",
   "execution_count": 299,
   "metadata": {},
   "outputs": [],
   "source": [
    "import ipytest\n",
    "import sys\n",
    "sys.path.append(\"..\")\n",
    "from ansi import *\n",
    "from comp import *\n",
    "ipytest.autoconfig()"
   ]
  },
  {
   "cell_type": "markdown",
   "source": [
    "## 2SUM\n",
    "Brute force version of the decision problem version of 2SUM: determine if there exist two numbers in the inclusive `[l, r]` range that add up to target. Needed for the brute force implementation."
   ],
   "metadata": {
    "collapsed": false
   }
  },
  {
   "cell_type": "code",
   "execution_count": 300,
   "outputs": [],
   "source": [
    "def two_sum_decision_brute_force(nums: list[int], l: int, r: int, target: int) -> bool:\n",
    "    for i in range(l, r + 1):\n",
    "        for j in range(i + 1, r + 1):\n",
    "            if nums[i] + nums[j] == target:\n",
    "                return True\n",
    "    return False"
   ],
   "metadata": {
    "collapsed": false
   }
  },
  {
   "cell_type": "code",
   "execution_count": 301,
   "outputs": [
    {
     "name": "stdout",
     "output_type": "stream",
     "text": [
      "\u001B[32m.\u001B[0m\u001B[32m                                                                                            [100%]\u001B[0m\n",
      "\u001B[32m\u001B[32m\u001B[1m1 passed\u001B[0m\u001B[32m in 0.01s\u001B[0m\u001B[0m\n"
     ]
    }
   ],
   "source": [
    "%%ipytest\n",
    "def test_two_sum_decision_brute_force():\n",
    "    assert two_sum_decision_brute_force([4, 5, 6, 7], 0, 3, 11) is True\n",
    "    assert two_sum_decision_brute_force([4, 5, 6, 7], 0, 1, 11) is False\n",
    "    assert two_sum_decision_brute_force([4, 5, 6, 7], 0, 1, 9) is True\n",
    "    assert two_sum_decision_brute_force([4, 5, 6, 7], 2, 3, 13) is True\n",
    "    assert two_sum_decision_brute_force([1, 2, 3, 4], 0, 3, 70) is False"
   ],
   "metadata": {
    "collapsed": false
   }
  },
  {
   "cell_type": "markdown",
   "source": [
    "## Brute Force Implementation\n",
    "Exhaustively examine every pair within the sliding window."
   ],
   "metadata": {
    "collapsed": false
   }
  },
  {
   "cell_type": "code",
   "execution_count": 302,
   "outputs": [],
   "source": [
    "def find_error_brute_force(nums: list[int], preamble_size: int, window_size: int) -> int | None:\n",
    "    \"\"\"\n",
    "    Given an array of integers, determines the first integer that does not respect the 2SUM\n",
    "    property of its preceding sliding window.\n",
    "    :param nums: the integers to examine\n",
    "    :param preamble_size: the number of pre-set values in the array (ergo where to ignore)\n",
    "    :param window_size: the number of integers to look back and consider\n",
    "    :return: the index of the nums array representing the violating integer\n",
    "    \"\"\"\n",
    "\n",
    "    assert preamble_size - window_size >= 0\n",
    "\n",
    "    for idx in range(preamble_size, len(nums)):\n",
    "        if two_sum_decision_brute_force(nums, idx - window_size, idx - 1, nums[idx]) is False:\n",
    "            return idx\n",
    "\n",
    "    return None"
   ],
   "metadata": {
    "collapsed": false
   }
  },
  {
   "cell_type": "code",
   "execution_count": 303,
   "outputs": [
    {
     "name": "stdout",
     "output_type": "stream",
     "text": [
      "\u001B[32m.\u001B[0m\u001B[32m                                                                                            [100%]\u001B[0m\n",
      "\u001B[32m\u001B[32m\u001B[1m1 passed\u001B[0m\u001B[32m in 0.01s\u001B[0m\u001B[0m\n"
     ]
    }
   ],
   "source": [
    "%%ipytest\n",
    "def test_find_error_brute_force():\n",
    "    assert find_error_brute_force([1, 1, 1, 1, 1, 1, 1, 1, 1, 1, 1], 5, 5) == 5\n",
    "    assert find_error_brute_force([1, 2, 3, 5, 8, 13, 21, 4], 3, 3) == 7\n",
    "    assert find_error_brute_force([35, 20, 15, 25, 47, 40, 62, 55, 65, 95, 102, 117, 150, 182, 127, 219, 299, 277, 309, 576], 5, 5) == 14"
   ],
   "metadata": {
    "collapsed": false
   }
  },
  {
   "cell_type": "markdown",
   "source": [
    "Nice, that worked, and it passes part 1. It's not the fastest, but it works. Part 2 will likely involve speed though."
   ],
   "metadata": {
    "collapsed": false
   }
  },
  {
   "cell_type": "markdown",
   "source": [
    "## Part 2: Exact Subarray Sum\n",
    "Given a list of numbers, find a subarray from `[i..j]` that adds up to `target`, then return `i` + `j`."
   ],
   "metadata": {
    "collapsed": false
   }
  },
  {
   "cell_type": "markdown",
   "source": [
    "### Naive Get Sum\n",
    "This will just add up the integers on the range `[i..j]` inclusive. $O(n)$."
   ],
   "metadata": {
    "collapsed": false
   }
  },
  {
   "cell_type": "code",
   "execution_count": 304,
   "outputs": [],
   "source": [
    "def get_sum_on_inclusive_range(nums, l, r):\n",
    "    the_sum = 0\n",
    "    for i in range(l, r + 1):\n",
    "        the_sum += nums[i]\n",
    "    return the_sum"
   ],
   "metadata": {
    "collapsed": false
   }
  },
  {
   "cell_type": "code",
   "execution_count": 305,
   "outputs": [
    {
     "name": "stdout",
     "output_type": "stream",
     "text": [
      "\u001B[32m.\u001B[0m\u001B[32m                                                                                            [100%]\u001B[0m\n",
      "\u001B[32m\u001B[32m\u001B[1m1 passed\u001B[0m\u001B[32m in 0.01s\u001B[0m\u001B[0m\n"
     ]
    }
   ],
   "source": [
    "%%ipytest\n",
    "def test_get_sum_on_inclusive_range():\n",
    "    assert get_sum_on_inclusive_range([1, 2, 3, 4], 1, 2) == 5\n",
    "    assert get_sum_on_inclusive_range([1, 2, 3, 4], 0, 0) == 1\n",
    "    assert get_sum_on_inclusive_range([1, 2, 3, 4], 3, 3) == 4\n",
    "    assert get_sum_on_inclusive_range(list(range(1, 100 + 1)), 0, 99) == 5050"
   ],
   "metadata": {
    "collapsed": false
   }
  },
  {
   "cell_type": "code",
   "execution_count": 306,
   "outputs": [],
   "source": [
    "def exact_subarray_sum(nums: list[int], target: int) -> int:\n",
    "    \"\"\"\n",
    "    Return the sum of the min and max of the first range adding up to target.\n",
    "    :param nums: numbers to examine\n",
    "    :param target: number to add up to\n",
    "    :return: the sum of the min and max representing a subarray satisfying this\n",
    "    \"\"\"\n",
    "    for i in range(len(nums)):\n",
    "        for j in range(i + 1, len(nums)):\n",
    "            if get_sum_on_inclusive_range(nums, i, j) == target:\n",
    "                arr_slice = nums[i : j + 1]\n",
    "                return min(arr_slice) + max(arr_slice)\n",
    "    raise Exception(\"Should have found something... poorly formed arguments maybe?\")"
   ],
   "metadata": {
    "collapsed": false
   }
  },
  {
   "cell_type": "code",
   "execution_count": 307,
   "outputs": [
    {
     "name": "stdout",
     "output_type": "stream",
     "text": [
      "\u001B[32m.\u001B[0m\u001B[32m                                                                                            [100%]\u001B[0m\n",
      "\u001B[32m\u001B[32m\u001B[1m1 passed\u001B[0m\u001B[32m in 0.01s\u001B[0m\u001B[0m\n"
     ]
    }
   ],
   "source": [
    "%%ipytest\n",
    "def test_exact_subarray_sum():\n",
    "    assert exact_subarray_sum([35, 20, 15, 25, 47, 40, 62, 55, 65, 95, 102, 117, 150, 182, 127, 219, 299, 277, 309, 576], 127) == 62"
   ],
   "metadata": {
    "collapsed": false
   }
  },
  {
   "cell_type": "markdown",
   "source": [
    "And that solves part 2. It's pretty damn slow!"
   ],
   "metadata": {
    "collapsed": false
   }
  },
  {
   "cell_type": "markdown",
   "source": [
    "## Main Solver"
   ],
   "metadata": {
    "collapsed": false
   }
  },
  {
   "cell_type": "code",
   "execution_count": 308,
   "metadata": {},
   "outputs": [],
   "source": [
    "def solve(prob, filename):\n",
    "    lines = []\n",
    "    gen = yield_line(filename)\n",
    "\n",
    "    for line in gen:\n",
    "        lines.append(int(line))\n",
    "\n",
    "    nums = lines\n",
    "\n",
    "    answer_to_part_1 = nums[find_error_brute_force(nums, 25, 25)]\n",
    "\n",
    "    if prob == 1:\n",
    "        return answer_to_part_1\n",
    "    elif prob == 2:\n",
    "        return exact_subarray_sum(nums, answer_to_part_1)\n",
    "    else:\n",
    "        print(\"Invalid problem code\")\n",
    "        exit()"
   ]
  },
  {
   "cell_type": "code",
   "execution_count": 309,
   "metadata": {},
   "outputs": [
    {
     "name": "stdout",
     "output_type": "stream",
     "text": [
      "\u001B[32m.\u001B[0m\u001B[32m                                                                                            [100%]\u001B[0m\n",
      "\u001B[32m\u001B[32m\u001B[1m1 passed\u001B[0m\u001B[32m in 5.65s\u001B[0m\u001B[0m\n"
     ]
    }
   ],
   "source": [
    "%%ipytest\n",
    "def test_solve():\n",
    "    assert solve(1, \"example1\") == 50\n",
    "#    assert solve(1, \"example2\") == 127\n",
    "    assert solve(1, \"input\") == 1504371145\n",
    "#    assert solve(2, \"example2\") == 62\n",
    "    assert solve(2, \"input\") == 183278487"
   ]
  }
 ],
 "metadata": {
  "kernelspec": {
   "display_name": "Python 3 (ipykernel)",
   "language": "python",
   "name": "python3"
  },
  "language_info": {
   "codemirror_mode": {
    "name": "ipython",
    "version": 3
   },
   "file_extension": ".py",
   "mimetype": "text/x-python",
   "name": "python",
   "nbconvert_exporter": "python",
   "pygments_lexer": "ipython3",
   "version": "3.10.6"
  }
 },
 "nbformat": 4,
 "nbformat_minor": 1
}
