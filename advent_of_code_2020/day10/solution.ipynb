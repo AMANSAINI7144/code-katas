{
 "cells": [
  {
   "cell_type": "markdown",
   "source": [
    "# [Advent of Code 2020 Day 10](https://adventofcode.com/2020/day/10)\n",
    "\n",
    "This looks nasty."
   ],
   "metadata": {
    "collapsed": false
   },
   "outputs": []
  },
  {
   "cell_type": "markdown",
   "source": [
    "## Initial setup"
   ],
   "metadata": {
    "collapsed": false
   }
  },
  {
   "cell_type": "code",
   "execution_count": null,
   "metadata": {},
   "outputs": [],
   "source": [
    "import ipytest\n",
    "import sys\n",
    "sys.path.append(\"..\")\n",
    "from ansi import *\n",
    "from comp import *\n",
    "ipytest.autoconfig()"
   ]
  },
  {
   "cell_type": "markdown",
   "source": [
    "## Main Solver"
   ],
   "metadata": {
    "collapsed": false
   }
  },
  {
   "cell_type": "code",
   "execution_count": null,
   "metadata": {},
   "outputs": [],
   "source": [
    "def solve(prob, filename):\n",
    "    lines = []\n",
    "    gen = yield_line(filename)\n",
    "\n",
    "    for line in gen:\n",
    "        lines.append(line)\n",
    "\n",
    "    if prob == 1:\n",
    "        return 0x3f3f3f3f + 1\n",
    "    elif prob == 2:\n",
    "        return 0x3f3f3f3f + 2\n",
    "    else:\n",
    "        print(\"Invalid problem code\")\n",
    "        exit()"
   ]
  },
  {
   "cell_type": "code",
   "execution_count": null,
   "metadata": {},
   "outputs": [],
   "source": [
    "%%ipytest\n",
    "def test_solve():\n",
    "    assert solve(1, \"example\") == 0x3f3f3f3f + 1\n",
    "    assert solve(1, \"input\") == 0x3f3f3f3f + 1\n",
    "    assert solve(2, \"example\") == 0x3f3f3f3f + 2\n",
    "    assert solve(2, \"input\") == 0x3f3f3f3f + 2"
   ]
  }
 ],
 "metadata": {
  "kernelspec": {
   "display_name": "Python 3 (ipykernel)",
   "language": "python",
   "name": "python3"
  },
  "language_info": {
   "codemirror_mode": {
    "name": "ipython",
    "version": 3
   },
   "file_extension": ".py",
   "mimetype": "text/x-python",
   "name": "python",
   "nbconvert_exporter": "python",
   "pygments_lexer": "ipython3",
   "version": "3.10.6"
  }
 },
 "nbformat": 4,
 "nbformat_minor": 1
}
