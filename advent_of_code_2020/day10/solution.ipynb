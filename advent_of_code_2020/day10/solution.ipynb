{
 "cells": [
  {
   "cell_type": "markdown",
   "source": [
    "# [Advent of Code 2020 Day 10](https://adventofcode.com/2020/day/10)\n",
    "\n",
    "This looks nasty."
   ],
   "metadata": {
    "collapsed": false
   },
   "outputs": []
  },
  {
   "cell_type": "markdown",
   "source": [
    "## Initial setup"
   ],
   "metadata": {
    "collapsed": false
   }
  },
  {
   "cell_type": "code",
   "execution_count": null,
   "metadata": {},
   "outputs": [],
   "source": [
    "import ipytest\n",
    "import sys\n",
    "sys.path.append(\"..\")\n",
    "from ansi import *\n",
    "from comp import *\n",
    "ipytest.autoconfig()"
   ]
  },
  {
   "cell_type": "markdown",
   "source": [
    "## Part 1 - A Naive CSP Backtracker\n",
    "This question has a lot of parallels with CSPs you'll find in AI/CI courses. As such, I'm probably going to try and make a naive backtracking algorithm that incrementally builds the candidate result."
   ],
   "metadata": {
    "collapsed": false
   }
  },
  {
   "cell_type": "markdown",
   "source": [
    "### The Joltage Diff Counter\n",
    "This will just take an array of nums and multiply the number of 1-diffs by the number of 3-diffs. If there exists a diff outside the 1-3 range it throws."
   ],
   "metadata": {
    "collapsed": false
   }
  },
  {
   "cell_type": "code",
   "execution_count": null,
   "outputs": [],
   "source": [
    "def get_product_of_1_and_3_jolt_differences(nums: list[int]) -> int:\n",
    "    diff_1 = 0\n",
    "    diff_3 = 0\n",
    "\n",
    "    for i in range(1, len(nums)):\n",
    "        if nums[i] - nums[i - 1] == 1:\n",
    "            diff_1 += 1\n",
    "        elif nums[i] - nums[i - 1] == 3:\n",
    "            diff_3 += 1\n",
    "        elif nums[i] - nums[i - 1] == 2:\n",
    "            continue\n",
    "        else:\n",
    "            raise Exception(f\"For array {nums} the diff for {nums[i]=} and {nums[i - 1]=} doesn't satisfy the 1-3 rule\")\n",
    "\n",
    "    return diff_1 * diff_3"
   ],
   "metadata": {
    "collapsed": false
   }
  },
  {
   "cell_type": "code",
   "execution_count": null,
   "outputs": [],
   "source": [
    "%%ipytest\n",
    "def test_get_product_of_1_and_3_jolt_differences():\n",
    "    assert get_product_of_1_and_3_jolt_differences([0, 1, 4, 5, 6, 7, 10, 11, 12, 15, 16, 19, 22]) == 35"
   ],
   "metadata": {
    "collapsed": false
   }
  },
  {
   "cell_type": "markdown",
   "source": [
    "### Transform and Conquer\n",
    "We want every element. The wording of this question implies it always exists. Therefore, we can just sort the input and run the difference function on that."
   ],
   "metadata": {
    "collapsed": false
   }
  },
  {
   "cell_type": "code",
   "execution_count": null,
   "outputs": [],
   "source": [
    "def get_multiplied_diffs(nums: list[int]) -> int:\n",
    "    \"\"\"\n",
    "    Takes a list of numbers and orders them so the maximum absolute difference is 3, then returns the number of 1-diffs multiplied by the number of 3-diffs.\n",
    "    :param nums: numbers to examine\n",
    "    :return: the product of 1-diffs and 3-diffs\n",
    "    \"\"\"\n",
    "    return get_product_of_1_and_3_jolt_differences([0] + sorted(nums + [max(nums) + 3]))"
   ],
   "metadata": {
    "collapsed": false
   }
  },
  {
   "cell_type": "code",
   "execution_count": null,
   "outputs": [],
   "source": [
    "%%ipytest\n",
    "def test_get_multiplied_diffs():\n",
    "    assert get_multiplied_diffs([16, 10, 15, 5, 1, 11, 7, 19, 6, 12, 4]) == 35"
   ],
   "metadata": {
    "collapsed": false
   }
  },
  {
   "cell_type": "markdown",
   "source": [
    "## Main Solver"
   ],
   "metadata": {
    "collapsed": false
   }
  },
  {
   "cell_type": "code",
   "execution_count": null,
   "metadata": {},
   "outputs": [],
   "source": [
    "def solve(prob, filename):\n",
    "    lines = []\n",
    "    gen = yield_line(filename)\n",
    "\n",
    "    for line in gen:\n",
    "        lines.append(line)\n",
    "\n",
    "    nums = list(map(int, lines))\n",
    "\n",
    "    if prob == 1:\n",
    "        return get_multiplied_diffs(nums)\n",
    "    elif prob == 2:\n",
    "        return 0x3f3f3f3f + 2\n",
    "    else:\n",
    "        print(\"Invalid problem code\")\n",
    "        exit()"
   ]
  },
  {
   "cell_type": "code",
   "execution_count": null,
   "metadata": {},
   "outputs": [],
   "source": [
    "%%ipytest\n",
    "def test_solve():\n",
    "    assert solve(1, \"example1\") == 35\n",
    "    assert solve(1, \"example2\") == 220\n",
    "    assert solve(1, \"input\") == 2380\n",
    "    assert solve(2, \"input\") == 0x3f3f3f3f + 2"
   ]
  }
 ],
 "metadata": {
  "kernelspec": {
   "display_name": "Python 3 (ipykernel)",
   "language": "python",
   "name": "python3"
  },
  "language_info": {
   "codemirror_mode": {
    "name": "ipython",
    "version": 3
   },
   "file_extension": ".py",
   "mimetype": "text/x-python",
   "name": "python",
   "nbconvert_exporter": "python",
   "pygments_lexer": "ipython3",
   "version": "3.10.6"
  }
 },
 "nbformat": 4,
 "nbformat_minor": 1
}
