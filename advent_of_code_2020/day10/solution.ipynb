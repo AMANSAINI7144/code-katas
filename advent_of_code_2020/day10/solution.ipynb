{
 "cells": [
  {
   "cell_type": "markdown",
   "source": [
    "# [Advent of Code 2020 Day 10](https://adventofcode.com/2020/day/10)\n",
    "\n",
    "This looks nasty."
   ],
   "metadata": {
    "collapsed": false
   },
   "outputs": []
  },
  {
   "cell_type": "markdown",
   "source": [
    "## Initial setup"
   ],
   "metadata": {
    "collapsed": false
   }
  },
  {
   "cell_type": "code",
   "execution_count": 1,
   "metadata": {},
   "outputs": [],
   "source": [
    "import ipytest\n",
    "import sys\n",
    "sys.path.append(\"..\")\n",
    "from ansi import *\n",
    "from comp import *\n",
    "ipytest.autoconfig()"
   ]
  },
  {
   "cell_type": "markdown",
   "source": [
    "## Part 1 - Cheesing It\n",
    "This question has a lot of parallels with CSPs you'll find in AI/CI courses. I was originally going to do a backtracker, but then I made a realization in the form of transform-and-conquer..."
   ],
   "metadata": {
    "collapsed": false
   }
  },
  {
   "cell_type": "markdown",
   "source": [
    "### The Joltage Diff Counter\n",
    "This will just take an array of nums and multiply the number of 1-diffs by the number of 3-diffs. If there exists a diff outside the 1-3 range it throws."
   ],
   "metadata": {
    "collapsed": false
   }
  },
  {
   "cell_type": "code",
   "execution_count": 2,
   "outputs": [],
   "source": [
    "def get_product_of_1_and_3_jolt_differences(nums: list[int]) -> int:\n",
    "    diff_1 = 0\n",
    "    diff_3 = 0\n",
    "\n",
    "    for i in range(1, len(nums)):\n",
    "        if nums[i] - nums[i - 1] == 1:\n",
    "            diff_1 += 1\n",
    "        elif nums[i] - nums[i - 1] == 3:\n",
    "            diff_3 += 1\n",
    "        elif nums[i] - nums[i - 1] == 2:\n",
    "            continue\n",
    "        else:\n",
    "            raise Exception(f\"For array {nums} the diff for {nums[i]=} and {nums[i - 1]=} doesn't satisfy the 1-3 rule\")\n",
    "\n",
    "    return diff_1 * diff_3"
   ],
   "metadata": {
    "collapsed": false
   }
  },
  {
   "cell_type": "code",
   "execution_count": 3,
   "outputs": [
    {
     "name": "stdout",
     "output_type": "stream",
     "text": [
      "\u001B[32m.\u001B[0m\u001B[32m                                                                                            [100%]\u001B[0m\n",
      "\u001B[32m\u001B[32m\u001B[1m1 passed\u001B[0m\u001B[32m in 0.01s\u001B[0m\u001B[0m\n"
     ]
    }
   ],
   "source": [
    "%%ipytest\n",
    "def test_get_product_of_1_and_3_jolt_differences():\n",
    "    assert get_product_of_1_and_3_jolt_differences([0, 1, 4, 5, 6, 7, 10, 11, 12, 15, 16, 19, 22]) == 35"
   ],
   "metadata": {
    "collapsed": false
   }
  },
  {
   "cell_type": "markdown",
   "source": [
    "### Transform and Conquer\n",
    "We want every element. The wording of this question implies it always exists. Therefore, we can just sort the input and run the difference function on that."
   ],
   "metadata": {
    "collapsed": false
   }
  },
  {
   "cell_type": "code",
   "execution_count": 4,
   "outputs": [],
   "source": [
    "def get_multiplied_diffs(nums: list[int]) -> int:\n",
    "    \"\"\"\n",
    "    Takes a list of numbers and orders them so the maximum absolute difference is 3, then returns the number of 1-diffs multiplied by the number of 3-diffs.\n",
    "    :param nums: numbers to examine\n",
    "    :return: the product of 1-diffs and 3-diffs\n",
    "    \"\"\"\n",
    "    return get_product_of_1_and_3_jolt_differences([0] + sorted(nums + [max(nums) + 3]))"
   ],
   "metadata": {
    "collapsed": false
   }
  },
  {
   "cell_type": "code",
   "execution_count": 5,
   "outputs": [
    {
     "name": "stdout",
     "output_type": "stream",
     "text": [
      "\u001B[32m.\u001B[0m\u001B[32m                                                                                            [100%]\u001B[0m\n",
      "\u001B[32m\u001B[32m\u001B[1m1 passed\u001B[0m\u001B[32m in 0.01s\u001B[0m\u001B[0m\n"
     ]
    }
   ],
   "source": [
    "%%ipytest\n",
    "def test_get_multiplied_diffs():\n",
    "    assert get_multiplied_diffs([16, 10, 15, 5, 1, 11, 7, 19, 6, 12, 4]) == 35"
   ],
   "metadata": {
    "collapsed": false
   }
  },
  {
   "cell_type": "markdown",
   "source": [
    "## Part 2 - Cheesing It Again\n",
    "Looking at the example on the question page,\n",
    "```\n",
    "(0), 1, 4, 5, 6, 7, 10, 11, 12, 15, 16, 19, (22)\n",
    "(0), 1, 4, 5, 6, 7, 10, 12, 15, 16, 19, (22)\n",
    "(0), 1, 4, 5, 7, 10, 11, 12, 15, 16, 19, (22)\n",
    "(0), 1, 4, 5, 7, 10, 12, 15, 16, 19, (22)\n",
    "(0), 1, 4, 6, 7, 10, 11, 12, 15, 16, 19, (22)\n",
    "(0), 1, 4, 6, 7, 10, 12, 15, 16, 19, (22)\n",
    "(0), 1, 4, 7, 10, 11, 12, 15, 16, 19, (22)\n",
    "(0), 1, 4, 7, 10, 12, 15, 16, 19, (22)\n",
    "```\n",
    "we notice that sorting the input gives it an interesting property: it represents the longest possible answer. Every possible answer after it involves some \"contraction\" of some elements. For example, if you look at the first six elements of the top-most row following the default `(0)`, `[1, 4, 5, 6, 7, 10]`, we see that the shortest possible form of it occurs as `[1, 4, 7, 10]` at the bottom, as the `[5, 6]` are contracted and disappear.\n",
    "\n",
    "Examining the canonical sorted result, we see (notated below the array element), the number of elements to the right of a given element it can contract plus 1; this roughly translates to how many times a number can \"choose\" its destiny:\n",
    "```\n",
    "[ 1,  4,  5,  6,  7, 10, 11, 12, 15, 16, 19]\n",
    "[ 2   3   3   2   2   3   2   2   2   2   1]\n",
    "```\n",
    "Using the \"rule of product\" in combinatorics, my first idea was to multiply everything together, as if there are 3 ways to choose a burger, and 4 ways to choose a drink, there are 12 ways in total to choose a burger, and drink! However, I think this may result in erroneous counts, because if an element is contracted, I shouldn't be allowed to multiply its number together (as it wouldn't be present in the candidate array).\n",
    "\n",
    "But that's for later. I still need to make the counter function first. Let's do that."
   ],
   "metadata": {
    "collapsed": false
   }
  },
  {
   "cell_type": "markdown",
   "source": [
    "### Contractions"
   ],
   "metadata": {
    "collapsed": false
   }
  },
  {
   "cell_type": "code",
   "execution_count": 6,
   "outputs": [],
   "source": [
    "def get_contractions(nums: list[int]) -> list[int]:\n",
    "    \"\"\"\n",
    "    For each number, return an array representing, at each index, how many times the number can \"choose its destiny\".\n",
    "    Assumes array is sorted and only contains distinct elements.\n",
    "    :param nums:\n",
    "    :return:\n",
    "    \"\"\"\n",
    "\n",
    "    # Guardrails; can delete later\n",
    "    assert nums == sorted(nums)\n",
    "    assert len(set(nums)) == len(nums)\n",
    "\n",
    "    contractions = [0] * len(nums)\n",
    "\n",
    "    for i in range(len(nums)):\n",
    "        if i + 1 < len(nums) and nums[i + 1] - nums[i] <= 3:\n",
    "            contractions[i] += 1\n",
    "        if i + 2 < len(nums) and nums[i + 2] - nums[i] <= 3:\n",
    "            contractions[i] += 1\n",
    "\n",
    "    return contractions"
   ],
   "metadata": {
    "collapsed": false
   }
  },
  {
   "cell_type": "code",
   "execution_count": 7,
   "outputs": [
    {
     "name": "stdout",
     "output_type": "stream",
     "text": [
      "\u001B[32m.\u001B[0m\u001B[32m                                                                                            [100%]\u001B[0m\n",
      "\u001B[32m\u001B[32m\u001B[1m1 passed\u001B[0m\u001B[32m in 0.01s\u001B[0m\u001B[0m\n"
     ]
    }
   ],
   "source": [
    "%%ipytest\n",
    "def test_get_contractions():\n",
    "    assert get_contractions([1, 2, 3]) == [2, 1, 0]\n",
    "    assert get_contractions([1, 4, 5, 6, 7, 10, 11, 12, 15, 16, 19]) == [1, 2, 2, 1, 1, 2, 1, 1, 1, 1, 0]\n",
    "    assert get_contractions([0, 1, 4, 5, 6, 7, 10, 11, 12, 15, 16, 19, 22]) == [1, 1, 2, 2, 1, 1, 2, 1, 1, 1, 1, 1, 0]"
   ],
   "metadata": {
    "collapsed": false
   }
  },
  {
   "cell_type": "markdown",
   "source": [
    "### Rule of Product?\n",
    "Let's see what happens if we multiply everything together except the 0 at the end..."
   ],
   "metadata": {
    "collapsed": false
   }
  },
  {
   "cell_type": "code",
   "execution_count": 8,
   "outputs": [],
   "source": [
    "def get_product_of_nonzero_elements(nums: list[int]) -> int:\n",
    "    assert nums and nums[-1] == 0 and nums.count(0) == 1\n",
    "    result = 1\n",
    "    for num in nums:\n",
    "        if num == 0:\n",
    "            break\n",
    "        result *= num\n",
    "    return result"
   ],
   "metadata": {
    "collapsed": false
   }
  },
  {
   "cell_type": "code",
   "execution_count": 9,
   "outputs": [
    {
     "name": "stdout",
     "output_type": "stream",
     "text": [
      "\u001B[32m.\u001B[0m\u001B[32m                                                                                            [100%]\u001B[0m\n",
      "\u001B[32m\u001B[32m\u001B[1m1 passed\u001B[0m\u001B[32m in 0.01s\u001B[0m\u001B[0m\n"
     ]
    }
   ],
   "source": [
    "%%ipytest\n",
    "def test_get_product_of_nonzero_elements():\n",
    "    assert get_product_of_nonzero_elements([1, 2, 2, 1, 1, 2, 1, 1, 1, 1, 0]) == 8\n",
    "    assert get_product_of_nonzero_elements([1, 1, 2, 2, 1, 1, 2, 1, 1, 1, 1, 1, 0]) == 8"
   ],
   "metadata": {
    "collapsed": false
   }
  },
  {
   "cell_type": "markdown",
   "source": [
    "Unfortunately, this only passes the smaller `example1` but not `example2`. For the latter, it returned 32768 instead of 19208. I'm erroneously counting elements more than once."
   ],
   "metadata": {
    "collapsed": false
   }
  },
  {
   "cell_type": "markdown",
   "source": [
    "### Top-Down?\n",
    "I'm going to try the following recurrence relation:\n",
    "$f(n) = \\prod_{i=1}^{cons} f(n+i) \\text{ where cons is the number of contractions}$"
   ],
   "metadata": {
    "collapsed": false
   }
  },
  {
   "cell_type": "code",
   "execution_count": 10,
   "outputs": [],
   "source": [
    "def count_adapter_configurations(nums: list[int], input_contractions: list[int] = None) -> int:\n",
    "\n",
    "    # Guardrails; can delete later\n",
    "    assert sorted(nums) == nums\n",
    "    assert len(set(nums)) == len(nums)\n",
    "\n",
    "    contractions = get_contractions(nums) if input_contractions is None else input_contractions\n",
    "\n",
    "    print(f\"contractions for {nums=}:\")\n",
    "    print(f\"{contractions}\")\n",
    "\n",
    "    assert contractions and contractions[-1] == 0\n",
    "    contractions.pop()\n",
    "\n",
    "    def f(idx: int) -> int:\n",
    "        if idx >= len(contractions):\n",
    "            return 1\n",
    "        answer = contractions[idx]\n",
    "        for i in range(1, contractions[idx] + 1):\n",
    "            answer *= f(idx + i)\n",
    "        return answer\n",
    "\n",
    "    return f(0)"
   ],
   "metadata": {
    "collapsed": false
   }
  },
  {
   "cell_type": "code",
   "execution_count": 11,
   "outputs": [
    {
     "name": "stdout",
     "output_type": "stream",
     "text": [
      "\u001B[31mF\u001B[0m\u001B[31mF\u001B[0m\u001B[31m                                                                                           [100%]\u001B[0m\n",
      "============================================ FAILURES =============================================\n",
      "\u001B[31m\u001B[1m_____________________________ test_count_adapter_configurations_basic _____________________________\u001B[0m\n",
      "\n",
      "    \u001B[94mdef\u001B[39;49;00m \u001B[92mtest_count_adapter_configurations_basic\u001B[39;49;00m():\n",
      "        \u001B[94massert\u001B[39;49;00m count_adapter_configurations([\u001B[94m0\u001B[39;49;00m, \u001B[94m3\u001B[39;49;00m, \u001B[94m6\u001B[39;49;00m]) == \u001B[94m1\u001B[39;49;00m\n",
      "        \u001B[94massert\u001B[39;49;00m count_adapter_configurations([\u001B[94m0\u001B[39;49;00m, \u001B[94m3\u001B[39;49;00m, \u001B[94m4\u001B[39;49;00m, \u001B[94m6\u001B[39;49;00m]) == \u001B[94m2\u001B[39;49;00m\n",
      "        \u001B[94massert\u001B[39;49;00m count_adapter_configurations([\u001B[94m3\u001B[39;49;00m, \u001B[94m4\u001B[39;49;00m, \u001B[94m5\u001B[39;49;00m, \u001B[94m6\u001B[39;49;00m]) == \u001B[94m4\u001B[39;49;00m\n",
      "        \u001B[94massert\u001B[39;49;00m count_adapter_configurations([\u001B[94m0\u001B[39;49;00m, \u001B[94m3\u001B[39;49;00m, \u001B[94m4\u001B[39;49;00m, \u001B[94m5\u001B[39;49;00m, \u001B[94m6\u001B[39;49;00m, \u001B[94m9\u001B[39;49;00m]) == \u001B[94m4\u001B[39;49;00m\n",
      ">       \u001B[94massert\u001B[39;49;00m count_adapter_configurations([\u001B[94m0\u001B[39;49;00m, \u001B[94m2\u001B[39;49;00m, \u001B[94m3\u001B[39;49;00m, \u001B[94m4\u001B[39;49;00m, \u001B[94m5\u001B[39;49;00m, \u001B[94m6\u001B[39;49;00m, \u001B[94m9\u001B[39;49;00m]) == \u001B[94m24\u001B[39;49;00m\n",
      "\u001B[1m\u001B[31mE       assert 128 == 24\u001B[0m\n",
      "\u001B[1m\u001B[31mE        +  where 128 = count_adapter_configurations([0, 2, 3, 4, 5, 6, ...])\u001B[0m\n",
      "\n",
      "\u001B[1m\u001B[31mC:\\Users\\Jason\\AppData\\Local\\Temp\\ipykernel_37864\\1643940141.py\u001B[0m:6: AssertionError\n",
      "-------------------------------------- Captured stdout call ---------------------------------------\n",
      "contractions for nums=[0, 3, 6]:\n",
      "[1, 1, 0]\n",
      "contractions for nums=[0, 3, 4, 6]:\n",
      "[1, 2, 1, 0]\n",
      "contractions for nums=[3, 4, 5, 6]:\n",
      "[2, 2, 1, 0]\n",
      "contractions for nums=[0, 3, 4, 5, 6, 9]:\n",
      "[1, 2, 2, 1, 1, 0]\n",
      "contractions for nums=[0, 2, 3, 4, 5, 6, 9]:\n",
      "[2, 2, 2, 2, 1, 1, 0]\n",
      "\u001B[31m\u001B[1m___________________________ test_count_adapter_configurations_advanced ____________________________\u001B[0m\n",
      "\n",
      "    \u001B[94mdef\u001B[39;49;00m \u001B[92mtest_count_adapter_configurations_advanced\u001B[39;49;00m():\n",
      "        \u001B[94massert\u001B[39;49;00m count_adapter_configurations([], input_contractions=[\u001B[94m1\u001B[39;49;00m, \u001B[94m2\u001B[39;49;00m, \u001B[94m1\u001B[39;49;00m, \u001B[94m1\u001B[39;49;00m, \u001B[94m0\u001B[39;49;00m]) == \u001B[94m2\u001B[39;49;00m\n",
      ">       \u001B[94massert\u001B[39;49;00m count_adapter_configurations([], input_contractions=[\u001B[94m2\u001B[39;49;00m, \u001B[94m2\u001B[39;49;00m, \u001B[94m1\u001B[39;49;00m, \u001B[94m1\u001B[39;49;00m, \u001B[94m2\u001B[39;49;00m, \u001B[94m1\u001B[39;49;00m, \u001B[94m0\u001B[39;49;00m]) == \u001B[94m8\u001B[39;49;00m\n",
      "\u001B[1m\u001B[31mE       assert 32 == 8\u001B[0m\n",
      "\u001B[1m\u001B[31mE        +  where 32 = count_adapter_configurations([], input_contractions=[2, 2, 1, 1, 2, 1])\u001B[0m\n",
      "\n",
      "\u001B[1m\u001B[31mC:\\Users\\Jason\\AppData\\Local\\Temp\\ipykernel_37864\\1643940141.py\u001B[0m:10: AssertionError\n",
      "-------------------------------------- Captured stdout call ---------------------------------------\n",
      "contractions for nums=[]:\n",
      "[1, 2, 1, 1, 0]\n",
      "contractions for nums=[]:\n",
      "[2, 2, 1, 1, 2, 1, 0]\n",
      "===================================== short test summary info =====================================\n",
      "FAILED tmp_v7_aa5x.py::test_count_adapter_configurations_basic - assert 128 == 24\n",
      "FAILED tmp_v7_aa5x.py::test_count_adapter_configurations_advanced - assert 32 == 8\n",
      "\u001B[31m\u001B[31m\u001B[1m2 failed\u001B[0m\u001B[31m in 0.12s\u001B[0m\u001B[0m\n"
     ]
    }
   ],
   "source": [
    "%%ipytest\n",
    "def test_count_adapter_configurations_basic():\n",
    "    assert count_adapter_configurations([0, 3, 6]) == 1\n",
    "    assert count_adapter_configurations([0, 3, 4, 6]) == 2\n",
    "    assert count_adapter_configurations([3, 4, 5, 6]) == 4\n",
    "    assert count_adapter_configurations([0, 3, 4, 5, 6, 9]) == 4\n",
    "    assert count_adapter_configurations([0, 2, 3, 4, 5, 6, 9]) == 24\n",
    "\n",
    "def test_count_adapter_configurations_advanced():\n",
    "    assert count_adapter_configurations([], input_contractions=[1, 2, 1, 1, 0]) == 2\n",
    "    assert count_adapter_configurations([], input_contractions=[2, 2, 1, 1, 2, 1, 0]) == 8\n",
    "    assert count_adapter_configurations([0, 1, 4, 5, 6, 7, 10, 11, 12, 15, 16, 19, 22]) == 8"
   ],
   "metadata": {
    "collapsed": false
   }
  },
  {
   "cell_type": "markdown",
   "source": [
    "Agh this isn't working! I think I need to use rule of sum instead of rule of product."
   ],
   "metadata": {
    "collapsed": false
   }
  },
  {
   "cell_type": "code",
   "execution_count": 12,
   "outputs": [],
   "source": [
    "def count_configurations_top_down(nums: list[int], idx: int, dp: dict[int, int]) -> int:\n",
    "\n",
    "    if (hit := dp.get(idx)) is not None:\n",
    "        return hit\n",
    "\n",
    "    if idx >= len(nums) - 1:\n",
    "        return 1\n",
    "\n",
    "    answer = 0\n",
    "\n",
    "    if idx + 3 < len(nums) and nums[idx + 3] - nums[idx] <= 3:\n",
    "        answer += count_configurations_top_down(nums, idx + 3, dp)\n",
    "\n",
    "    if idx + 2 < len(nums) and nums[idx + 2] - nums[idx] <= 3:\n",
    "        answer += count_configurations_top_down(nums, idx + 2, dp)\n",
    "\n",
    "    if idx + 1 < len(nums) and nums[idx + 1] - nums[idx] <= 3:\n",
    "        answer += count_configurations_top_down(nums, idx + 1, dp)\n",
    "\n",
    "    dp[idx] = answer\n",
    "    return answer"
   ],
   "metadata": {
    "collapsed": false
   }
  },
  {
   "cell_type": "code",
   "execution_count": 13,
   "outputs": [
    {
     "name": "stdout",
     "output_type": "stream",
     "text": [
      "\u001B[32m.\u001B[0m\u001B[32m                                                                                            [100%]\u001B[0m\n",
      "\u001B[32m\u001B[32m\u001B[1m1 passed\u001B[0m\u001B[32m in 0.01s\u001B[0m\u001B[0m\n"
     ]
    }
   ],
   "source": [
    "%%ipytest\n",
    "def test_count_configurations_top_down():\n",
    "    assert count_configurations_top_down([0, 3, 6], 0, {}) == 1\n",
    "    assert count_configurations_top_down([0, 3, 4, 6], 0, {}) == 2\n",
    "    assert count_configurations_top_down([3, 4, 5, 6], 0, {}) == 4\n",
    "    assert count_configurations_top_down([0, 3, 4, 5, 6, 9], 0, {}) == 4\n",
    "    assert count_configurations_top_down([0, 1, 4, 5, 6, 7, 10, 11, 12, 15, 16, 19, 22], 0, {}) == 8"
   ],
   "metadata": {
    "collapsed": false
   }
  },
  {
   "cell_type": "markdown",
   "source": [
    "No shot, was that it? Can we go bottom-up?"
   ],
   "metadata": {
    "collapsed": false
   }
  },
  {
   "cell_type": "code",
   "execution_count": 14,
   "outputs": [],
   "source": [
    "def count_configurations_bottom_up(nums: list[int]) -> int:\n",
    "\n",
    "    arr = [0] * len(nums)\n",
    "\n",
    "    arr[-1] = 1\n",
    "\n",
    "    for i in reversed(range(len(nums) - 1)):\n",
    "        if i + 3 < len(nums) and nums[i + 3] - nums[i] <= 3:\n",
    "            arr[i] += arr[i + 3]\n",
    "        if i + 2 < len(nums) and nums[i + 2] - nums[i] <= 3:\n",
    "            arr[i] += arr[i + 2]\n",
    "        if i + 1 < len(nums) and nums[i + 1] - nums[i] <= 3:\n",
    "            arr[i] += arr[i + 1]\n",
    "\n",
    "    return arr[0]"
   ],
   "metadata": {
    "collapsed": false
   }
  },
  {
   "cell_type": "code",
   "execution_count": 15,
   "outputs": [
    {
     "name": "stdout",
     "output_type": "stream",
     "text": [
      "\u001B[32m.\u001B[0m\u001B[32m                                                                                            [100%]\u001B[0m\n",
      "\u001B[32m\u001B[32m\u001B[1m1 passed\u001B[0m\u001B[32m in 0.01s\u001B[0m\u001B[0m\n"
     ]
    }
   ],
   "source": [
    "%%ipytest\n",
    "def test_count_configurations_bottom_up():\n",
    "    assert count_configurations_bottom_up([0, 3, 6]) == 1\n",
    "    assert count_configurations_bottom_up([0, 3, 4, 6]) == 2\n",
    "    assert count_configurations_bottom_up([3, 4, 5, 6]) == 4\n",
    "    assert count_configurations_bottom_up([0, 3, 4, 5, 6, 9]) == 4\n",
    "    assert count_configurations_bottom_up([0, 1, 4, 5, 6, 7, 10, 11, 12, 15, 16, 19, 22]) == 8"
   ],
   "metadata": {
    "collapsed": false
   }
  },
  {
   "cell_type": "markdown",
   "source": [
    "## Main Solver"
   ],
   "metadata": {
    "collapsed": false
   }
  },
  {
   "cell_type": "code",
   "execution_count": 16,
   "metadata": {},
   "outputs": [],
   "source": [
    "def solve(prob, filename):\n",
    "    lines = []\n",
    "    gen = yield_line(filename)\n",
    "\n",
    "    for line in gen:\n",
    "        lines.append(line)\n",
    "\n",
    "    nums = list(map(int, lines))\n",
    "\n",
    "    if prob == 1:\n",
    "        return get_multiplied_diffs(nums)\n",
    "    elif prob == 2:\n",
    "        return count_configurations_bottom_up([0] + sorted(nums) + [max(nums) + 3])\n",
    "    else:\n",
    "        print(\"Invalid problem code\")\n",
    "        exit()"
   ]
  },
  {
   "cell_type": "code",
   "execution_count": 17,
   "metadata": {},
   "outputs": [
    {
     "name": "stdout",
     "output_type": "stream",
     "text": [
      "\u001B[32m.\u001B[0m\u001B[32m                                                                                            [100%]\u001B[0m\n",
      "\u001B[32m\u001B[32m\u001B[1m1 passed\u001B[0m\u001B[32m in 0.01s\u001B[0m\u001B[0m\n"
     ]
    }
   ],
   "source": [
    "%%ipytest\n",
    "def test_solve():\n",
    "    assert solve(1, \"example1\") == 35\n",
    "    assert solve(1, \"example2\") == 220\n",
    "    assert solve(1, \"input\") == 2380\n",
    "    assert solve(2, \"example1\") == 8\n",
    "    assert solve(2, \"example2\") == 19208\n",
    "    assert solve(2, \"input\") == 48358655787008"
   ]
  },
  {
   "cell_type": "markdown",
   "source": [
    "No fucking way. It actually worked.\n",
    "\n",
    "Instead of multiplying every method count together, I had to add them. Because the ways were dependent on each other and incapable of being done simultaneously."
   ],
   "metadata": {
    "collapsed": false
   }
  }
 ],
 "metadata": {
  "kernelspec": {
   "display_name": "Python 3 (ipykernel)",
   "language": "python",
   "name": "python3"
  },
  "language_info": {
   "codemirror_mode": {
    "name": "ipython",
    "version": 3
   },
   "file_extension": ".py",
   "mimetype": "text/x-python",
   "name": "python",
   "nbconvert_exporter": "python",
   "pygments_lexer": "ipython3",
   "version": "3.10.6"
  }
 },
 "nbformat": 4,
 "nbformat_minor": 1
}
